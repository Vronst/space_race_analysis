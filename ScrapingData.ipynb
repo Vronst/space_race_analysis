{
 "cells": [
  {
   "cell_type": "code",
   "execution_count": null,
   "id": "939ccdaa-885b-4ea2-bda9-e4cb2b219d1c",
   "metadata": {},
   "outputs": [],
   "source": [
    "from bs4 import BeautifulSoup\n",
    "import requests"
   ]
  },
  {
   "cell_type": "markdown",
   "id": "e73dff87-8fe2-40c8-ac7b-989db9d7140a",
   "metadata": {},
   "source": [
    "# Scraping data to use"
   ]
  },
  {
   "cell_type": "code",
   "execution_count": null,
   "id": "9ab7f7ed-9ea6-4657-ae23-1481335514f4",
   "metadata": {},
   "outputs": [],
   "source": [
    "with open('data.csv', \"w\", encoding='utf-8') as file:\n",
    "    file.write('\"CompanyName\";\"Location\";\"Datum\";\"Price\";\"Rocket\";\"StatusRocket\";\"StatusMission\"\\n')"
   ]
  },
  {
   "cell_type": "code",
   "execution_count": null,
   "id": "fefca633-f2ea-4282-be55-36908904657d",
   "metadata": {},
   "outputs": [],
   "source": [
    "web = 'https://nextspaceflight.com/launches/past/?page=1&search='\n",
    "while True:\n",
    "    links = []\n",
    "    html = requests.get(web)\n",
    "    soup = BeautifulSoup(html.content, 'html.parser')\n",
    "    button = soup.find('div', {'style': 'float: right; margin-right: 5px'})\n",
    "\n",
    "    entries = soup.find_all('div', 'mdl-card__actions mdl-card--border')\n",
    "    entries = [entry.a for entry in entries]\n",
    "    for entry in entries:\n",
    "        links.append(entry['href']) # every mission on this page\n",
    "\n",
    "    for link in links:\n",
    "        mission = requests.get('https://nextspaceflight.com'+link)\n",
    "        \n",
    "        company_name = None\n",
    "        location = None\n",
    "        datum = None\n",
    "        rocket_status = None\n",
    "        mission_status = None\n",
    "        price = None\n",
    "        rocket_name = None\n",
    "        soup = BeautifulSoup(mission.content, 'html.parser')\n",
    "        mission_status = soup.find('h6', {'class': 'rcorners status'})\n",
    "        if mission_status:\n",
    "            mission_status = mission_status.text.strip()\n",
    "        \n",
    "        rocket_name = soup.find('h4', {'class': 'mdl-card__title-text'})\n",
    "        if rocket_name:\n",
    "            rocket_name = rocket_name.text.strip()\n",
    "        \n",
    "        details = soup.find_all('div', {'class': 'mdl-cell mdl-cell--6-col-desktop mdl-cell--12-col-tablet'})\n",
    "        \n",
    "        datum = soup.find('span', {'id': 'localized'})\n",
    "        \n",
    "        details = [detail.text.strip() for detail in details]\n",
    "        if details:\n",
    "            company_name = details.pop(0)\n",
    "        \n",
    "        for detail in details:\n",
    "            if 'Price' in detail:\n",
    "                price = detail.split(':')[1]\n",
    "            elif 'Status' in detail:\n",
    "                rocket_status = detail.split(':')[1]\n",
    "    \n",
    "        location = soup.find_all('section', {'class': 'card section--center white mdl-grid mdl-grid--no-spacing mdl-shadow--6dp'})\n",
    "        if location:\n",
    "            location = location[1].h4.text\n",
    "        if datum:\n",
    "            datum = datum.text.strip()\n",
    "        scraped = f'{str(company_name)};{str(location)};{str(datum)};{str(price)};{str(rocket_name)};{str(rocket_status)};{str(mission_status)}\\n'\n",
    "        with open('data.csv', \"a\", encoding='utf-8') as file:\n",
    "            file.write(scraped)\n",
    "    \n",
    "    if button:\n",
    "        web = 'https://nextspaceflight.com/launches/past/' + button.a['href']\n",
    "        print(web)\n",
    "    else:\n",
    "        break"
   ]
  },
  {
   "cell_type": "code",
   "execution_count": null,
   "id": "97c62892-5f44-4529-9b58-87d806171b18",
   "metadata": {},
   "outputs": [],
   "source": []
  }
 ],
 "metadata": {
  "kernelspec": {
   "display_name": "Python 3 (ipykernel)",
   "language": "python",
   "name": "python3"
  },
  "language_info": {
   "codemirror_mode": {
    "name": "ipython",
    "version": 3
   },
   "file_extension": ".py",
   "mimetype": "text/x-python",
   "name": "python",
   "nbconvert_exporter": "python",
   "pygments_lexer": "ipython3",
   "version": "3.11.8"
  }
 },
 "nbformat": 4,
 "nbformat_minor": 5
}
