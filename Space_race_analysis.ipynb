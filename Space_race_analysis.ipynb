{
 "cells": [
  {
   "cell_type": "code",
   "execution_count": 1,
   "metadata": {
    "executionInfo": {
     "elapsed": 13,
     "status": "ok",
     "timestamp": 1710584989489,
     "user": {
      "displayName": "Vronst 141",
      "userId": "15345323381883649999"
     },
     "user_tz": -60
    },
    "id": "2XO8JLo2yQNd"
   },
   "outputs": [],
   "source": [
    "import pandas as pd\n",
    "import matplotlib.pyplot as plt\n",
    "import numpy as np\n",
    "%matplotlib inline"
   ]
  },
  {
   "cell_type": "code",
   "execution_count": 2,
   "metadata": {
    "colab": {
     "base_uri": "https://localhost:8080/",
     "height": 164
    },
    "executionInfo": {
     "elapsed": 388,
     "status": "ok",
     "timestamp": 1710585076330,
     "user": {
      "displayName": "Vronst 141",
      "userId": "15345323381883649999"
     },
     "user_tz": -60
    },
    "id": "gEu1SegAy1--",
    "outputId": "112ff12e-556a-4381-b45c-98b7f5662258"
   },
   "outputs": [
    {
     "data": {
      "text/html": [
       "<div>\n",
       "<style scoped>\n",
       "    .dataframe tbody tr th:only-of-type {\n",
       "        vertical-align: middle;\n",
       "    }\n",
       "\n",
       "    .dataframe tbody tr th {\n",
       "        vertical-align: top;\n",
       "    }\n",
       "\n",
       "    .dataframe thead th {\n",
       "        text-align: right;\n",
       "    }\n",
       "</style>\n",
       "<table border=\"1\" class=\"dataframe\">\n",
       "  <thead>\n",
       "    <tr style=\"text-align: right;\">\n",
       "      <th></th>\n",
       "      <th>CompanyName</th>\n",
       "      <th>Location</th>\n",
       "      <th>Datum</th>\n",
       "      <th>Price</th>\n",
       "      <th>Rocket</th>\n",
       "      <th>StatusRocket</th>\n",
       "      <th>StatusMission</th>\n",
       "    </tr>\n",
       "  </thead>\n",
       "  <tbody>\n",
       "    <tr>\n",
       "      <th>863</th>\n",
       "      <td>OneSpace</td>\n",
       "      <td>Site 95A, Jiuquan Satellite Launch Center, China</td>\n",
       "      <td>Wed Mar 27, 2019 09:39 UTC</td>\n",
       "      <td>NaN</td>\n",
       "      <td>Lingque 1B</td>\n",
       "      <td>Retired</td>\n",
       "      <td>Failure</td>\n",
       "    </tr>\n",
       "    <tr>\n",
       "      <th>79</th>\n",
       "      <td>SpaceX</td>\n",
       "      <td>SLC-40, Cape Canaveral SFS, Florida, USA</td>\n",
       "      <td>Fri Dec 29, 2023 04:01 UTC</td>\n",
       "      <td>$67.0 million</td>\n",
       "      <td>Starlink Group 6-36</td>\n",
       "      <td>Active</td>\n",
       "      <td>Success</td>\n",
       "    </tr>\n",
       "  </tbody>\n",
       "</table>\n",
       "</div>"
      ],
      "text/plain": [
       "    CompanyName                                          Location  \\\n",
       "863    OneSpace  Site 95A, Jiuquan Satellite Launch Center, China   \n",
       "79       SpaceX          SLC-40, Cape Canaveral SFS, Florida, USA   \n",
       "\n",
       "                          Datum           Price               Rocket  \\\n",
       "863  Wed Mar 27, 2019 09:39 UTC             NaN           Lingque 1B   \n",
       "79   Fri Dec 29, 2023 04:01 UTC   $67.0 million  Starlink Group 6-36   \n",
       "\n",
       "    StatusRocket StatusMission  \n",
       "863      Retired       Failure  \n",
       "79        Active       Success  "
      ]
     },
     "execution_count": 2,
     "metadata": {},
     "output_type": "execute_result"
    }
   ],
   "source": [
    "data = pd.read_csv('./data.csv', low_memory=False, sep=';')\n",
    "# data = pd.read_csv('/content/drive/Othercomputers/My computer/Jupyter/Space_Race/space.csv')\n",
    "data.sample(2)"
   ]
  },
  {
   "cell_type": "markdown",
   "metadata": {},
   "source": [
    "---"
   ]
  },
  {
   "cell_type": "markdown",
   "metadata": {},
   "source": [
    "# Prepering data\n",
    "### Setting years of space race\n",
    "### Limiting data only to USA and Russia\n",
    "### Excluding some columns\n",
    "### Optimizing memory usage "
   ]
  },
  {
   "cell_type": "code",
   "execution_count": 3,
   "metadata": {},
   "outputs": [
    {
     "name": "stdout",
     "output_type": "stream",
     "text": [
      "<class 'pandas.core.frame.DataFrame'>\n",
      "RangeIndex: 6750 entries, 0 to 6749\n",
      "Data columns (total 7 columns):\n",
      " #   Column         Non-Null Count  Dtype \n",
      "---  ------         --------------  ----- \n",
      " 0   CompanyName    6750 non-null   object\n",
      " 1   Location       6750 non-null   object\n",
      " 2   Datum          6710 non-null   object\n",
      " 3   Price          2700 non-null   object\n",
      " 4   Rocket         6750 non-null   object\n",
      " 5   StatusRocket   6750 non-null   object\n",
      " 6   StatusMission  6750 non-null   object\n",
      "dtypes: object(7)\n",
      "memory usage: 3.2 MB\n"
     ]
    }
   ],
   "source": [
    "data.info(memory_usage='deep')"
   ]
  },
  {
   "cell_type": "code",
   "execution_count": 4,
   "metadata": {},
   "outputs": [],
   "source": [
    "data['Datum']= pd.to_datetime(data['Datum'], format=\"%a %b %d, %Y %H:%M %Z\")"
   ]
  },
  {
   "cell_type": "code",
   "execution_count": 5,
   "metadata": {},
   "outputs": [
    {
     "data": {
      "text/html": [
       "<div>\n",
       "<style scoped>\n",
       "    .dataframe tbody tr th:only-of-type {\n",
       "        vertical-align: middle;\n",
       "    }\n",
       "\n",
       "    .dataframe tbody tr th {\n",
       "        vertical-align: top;\n",
       "    }\n",
       "\n",
       "    .dataframe thead th {\n",
       "        text-align: right;\n",
       "    }\n",
       "</style>\n",
       "<table border=\"1\" class=\"dataframe\">\n",
       "  <thead>\n",
       "    <tr style=\"text-align: right;\">\n",
       "      <th></th>\n",
       "      <th>CompanyName</th>\n",
       "      <th>Location</th>\n",
       "      <th>Datum</th>\n",
       "      <th>Price</th>\n",
       "      <th>Rocket</th>\n",
       "      <th>StatusRocket</th>\n",
       "      <th>StatusMission</th>\n",
       "    </tr>\n",
       "  </thead>\n",
       "  <tbody>\n",
       "    <tr>\n",
       "      <th>0</th>\n",
       "      <td>CASC</td>\n",
       "      <td>LC-3, Xichang Satellite Launch Center, China</td>\n",
       "      <td>2024-04-20 23:45:00+00:00</td>\n",
       "      <td>$29.75 million</td>\n",
       "      <td>Yaogan 42-02</td>\n",
       "      <td>Active</td>\n",
       "      <td>Success</td>\n",
       "    </tr>\n",
       "    <tr>\n",
       "      <th>1</th>\n",
       "      <td>SpaceX</td>\n",
       "      <td>SLC-40, Cape Canaveral SFS, Florida, USA</td>\n",
       "      <td>2024-04-18 22:40:00+00:00</td>\n",
       "      <td>$67.0 million</td>\n",
       "      <td>Starlink Group 6-52</td>\n",
       "      <td>Active</td>\n",
       "      <td>Success</td>\n",
       "    </tr>\n",
       "    <tr>\n",
       "      <th>2</th>\n",
       "      <td>SpaceX</td>\n",
       "      <td>LC-39A, Kennedy Space Center, Florida, USA</td>\n",
       "      <td>2024-04-17 21:26:00+00:00</td>\n",
       "      <td>$67.0 million</td>\n",
       "      <td>Starlink Group 6-51</td>\n",
       "      <td>Active</td>\n",
       "      <td>Success</td>\n",
       "    </tr>\n",
       "    <tr>\n",
       "      <th>3</th>\n",
       "      <td>CASC</td>\n",
       "      <td>Site 9401 (SLS-2), Jiuquan Satellite Launch Ce...</td>\n",
       "      <td>2024-04-15 04:12:00+00:00</td>\n",
       "      <td>$29.75 million</td>\n",
       "      <td>SuperView Neo 3-01</td>\n",
       "      <td>Active</td>\n",
       "      <td>Success</td>\n",
       "    </tr>\n",
       "    <tr>\n",
       "      <th>4</th>\n",
       "      <td>SpaceX</td>\n",
       "      <td>SLC-40, Cape Canaveral SFS, Florida, USA</td>\n",
       "      <td>2024-04-13 01:40:00+00:00</td>\n",
       "      <td>$67.0 million</td>\n",
       "      <td>Starlink Group 6-49</td>\n",
       "      <td>Active</td>\n",
       "      <td>Success</td>\n",
       "    </tr>\n",
       "  </tbody>\n",
       "</table>\n",
       "</div>"
      ],
      "text/plain": [
       "  CompanyName                                           Location  \\\n",
       "0        CASC       LC-3, Xichang Satellite Launch Center, China   \n",
       "1      SpaceX           SLC-40, Cape Canaveral SFS, Florida, USA   \n",
       "2      SpaceX         LC-39A, Kennedy Space Center, Florida, USA   \n",
       "3        CASC  Site 9401 (SLS-2), Jiuquan Satellite Launch Ce...   \n",
       "4      SpaceX           SLC-40, Cape Canaveral SFS, Florida, USA   \n",
       "\n",
       "                      Datum            Price               Rocket  \\\n",
       "0 2024-04-20 23:45:00+00:00   $29.75 million         Yaogan 42-02   \n",
       "1 2024-04-18 22:40:00+00:00    $67.0 million  Starlink Group 6-52   \n",
       "2 2024-04-17 21:26:00+00:00    $67.0 million  Starlink Group 6-51   \n",
       "3 2024-04-15 04:12:00+00:00   $29.75 million   SuperView Neo 3-01   \n",
       "4 2024-04-13 01:40:00+00:00    $67.0 million  Starlink Group 6-49   \n",
       "\n",
       "  StatusRocket StatusMission  \n",
       "0       Active       Success  \n",
       "1       Active       Success  \n",
       "2       Active       Success  \n",
       "3       Active       Success  \n",
       "4       Active       Success  "
      ]
     },
     "execution_count": 5,
     "metadata": {},
     "output_type": "execute_result"
    }
   ],
   "source": [
    "data.head()"
   ]
  },
  {
   "cell_type": "code",
   "execution_count": 6,
   "metadata": {},
   "outputs": [
    {
     "name": "stdout",
     "output_type": "stream",
     "text": [
      "<class 'pandas.core.frame.DataFrame'>\n",
      "RangeIndex: 6750 entries, 0 to 6749\n",
      "Data columns (total 7 columns):\n",
      " #   Column         Non-Null Count  Dtype              \n",
      "---  ------         --------------  -----              \n",
      " 0   CompanyName    6750 non-null   object             \n",
      " 1   Location       6750 non-null   object             \n",
      " 2   Datum          6710 non-null   datetime64[ns, UTC]\n",
      " 3   Price          2700 non-null   object             \n",
      " 4   Rocket         6750 non-null   object             \n",
      " 5   StatusRocket   6750 non-null   object             \n",
      " 6   StatusMission  6750 non-null   object             \n",
      "dtypes: datetime64[ns, UTC](1), object(6)\n",
      "memory usage: 2.7 MB\n"
     ]
    }
   ],
   "source": [
    "data.info(memory_usage='deep')"
   ]
  },
  {
   "cell_type": "code",
   "execution_count": 7,
   "metadata": {},
   "outputs": [
    {
     "data": {
      "text/plain": [
       "CompanyName\n",
       "RVSN USSR       2472\n",
       "US Air Force     549\n",
       "CASC             532\n",
       "Roscosmos        368\n",
       "SpaceX           348\n",
       "Name: count, dtype: int64"
      ]
     },
     "execution_count": 7,
     "metadata": {},
     "output_type": "execute_result"
    }
   ],
   "source": [
    "data['CompanyName'].value_counts().head()"
   ]
  },
  {
   "cell_type": "code",
   "execution_count": 8,
   "metadata": {},
   "outputs": [],
   "source": [
    "data['CompanyName'] = data['CompanyName'].astype('category')"
   ]
  },
  {
   "cell_type": "code",
   "execution_count": 9,
   "metadata": {},
   "outputs": [],
   "source": [
    "data['StatusRocket'] = data['StatusRocket'].astype('category')"
   ]
  },
  {
   "cell_type": "code",
   "execution_count": 10,
   "metadata": {},
   "outputs": [],
   "source": [
    "data['StatusMission'] = data['StatusMission'].astype('category')"
   ]
  },
  {
   "cell_type": "code",
   "execution_count": 11,
   "metadata": {},
   "outputs": [],
   "source": [
    "# data['Rocket'] = data['Rocket'].astype('category')"
   ]
  },
  {
   "cell_type": "code",
   "execution_count": 12,
   "metadata": {},
   "outputs": [],
   "source": [
    "data['Price'] = data.Price.str.replace('$', '').str.replace(' million', '').str.replace(',', '')"
   ]
  },
  {
   "cell_type": "code",
   "execution_count": 13,
   "metadata": {},
   "outputs": [],
   "source": [
    "data.Price = data.Price.astype('float')"
   ]
  },
  {
   "cell_type": "code",
   "execution_count": 14,
   "metadata": {},
   "outputs": [
    {
     "name": "stdout",
     "output_type": "stream",
     "text": [
      "<class 'pandas.core.frame.DataFrame'>\n",
      "RangeIndex: 6750 entries, 0 to 6749\n",
      "Data columns (total 7 columns):\n",
      " #   Column         Non-Null Count  Dtype              \n",
      "---  ------         --------------  -----              \n",
      " 0   CompanyName    6750 non-null   category           \n",
      " 1   Location       6750 non-null   object             \n",
      " 2   Datum          6710 non-null   datetime64[ns, UTC]\n",
      " 3   Price          2700 non-null   float64            \n",
      " 4   Rocket         6750 non-null   object             \n",
      " 5   StatusRocket   6750 non-null   category           \n",
      " 6   StatusMission  6750 non-null   category           \n",
      "dtypes: category(3), datetime64[ns, UTC](1), float64(1), object(2)\n",
      "memory usage: 1.2 MB\n"
     ]
    }
   ],
   "source": [
    "data.info(memory_usage='deep')"
   ]
  },
  {
   "cell_type": "code",
   "execution_count": 15,
   "metadata": {},
   "outputs": [
    {
     "data": {
      "text/html": [
       "<div>\n",
       "<style scoped>\n",
       "    .dataframe tbody tr th:only-of-type {\n",
       "        vertical-align: middle;\n",
       "    }\n",
       "\n",
       "    .dataframe tbody tr th {\n",
       "        vertical-align: top;\n",
       "    }\n",
       "\n",
       "    .dataframe thead th {\n",
       "        text-align: right;\n",
       "    }\n",
       "</style>\n",
       "<table border=\"1\" class=\"dataframe\">\n",
       "  <thead>\n",
       "    <tr style=\"text-align: right;\">\n",
       "      <th></th>\n",
       "      <th>CompanyName</th>\n",
       "      <th>Location</th>\n",
       "      <th>Datum</th>\n",
       "      <th>Price</th>\n",
       "      <th>Rocket</th>\n",
       "      <th>StatusRocket</th>\n",
       "      <th>StatusMission</th>\n",
       "    </tr>\n",
       "  </thead>\n",
       "  <tbody>\n",
       "    <tr>\n",
       "      <th>0</th>\n",
       "      <td>CASC</td>\n",
       "      <td>LC-3, Xichang Satellite Launch Center, China</td>\n",
       "      <td>2024-04-20 23:45:00+00:00</td>\n",
       "      <td>29.75</td>\n",
       "      <td>Yaogan 42-02</td>\n",
       "      <td>Active</td>\n",
       "      <td>Success</td>\n",
       "    </tr>\n",
       "    <tr>\n",
       "      <th>1</th>\n",
       "      <td>SpaceX</td>\n",
       "      <td>SLC-40, Cape Canaveral SFS, Florida, USA</td>\n",
       "      <td>2024-04-18 22:40:00+00:00</td>\n",
       "      <td>67.00</td>\n",
       "      <td>Starlink Group 6-52</td>\n",
       "      <td>Active</td>\n",
       "      <td>Success</td>\n",
       "    </tr>\n",
       "    <tr>\n",
       "      <th>2</th>\n",
       "      <td>SpaceX</td>\n",
       "      <td>LC-39A, Kennedy Space Center, Florida, USA</td>\n",
       "      <td>2024-04-17 21:26:00+00:00</td>\n",
       "      <td>67.00</td>\n",
       "      <td>Starlink Group 6-51</td>\n",
       "      <td>Active</td>\n",
       "      <td>Success</td>\n",
       "    </tr>\n",
       "    <tr>\n",
       "      <th>3</th>\n",
       "      <td>CASC</td>\n",
       "      <td>Site 9401 (SLS-2), Jiuquan Satellite Launch Ce...</td>\n",
       "      <td>2024-04-15 04:12:00+00:00</td>\n",
       "      <td>29.75</td>\n",
       "      <td>SuperView Neo 3-01</td>\n",
       "      <td>Active</td>\n",
       "      <td>Success</td>\n",
       "    </tr>\n",
       "    <tr>\n",
       "      <th>4</th>\n",
       "      <td>SpaceX</td>\n",
       "      <td>SLC-40, Cape Canaveral SFS, Florida, USA</td>\n",
       "      <td>2024-04-13 01:40:00+00:00</td>\n",
       "      <td>67.00</td>\n",
       "      <td>Starlink Group 6-49</td>\n",
       "      <td>Active</td>\n",
       "      <td>Success</td>\n",
       "    </tr>\n",
       "  </tbody>\n",
       "</table>\n",
       "</div>"
      ],
      "text/plain": [
       "  CompanyName                                           Location  \\\n",
       "0        CASC       LC-3, Xichang Satellite Launch Center, China   \n",
       "1      SpaceX           SLC-40, Cape Canaveral SFS, Florida, USA   \n",
       "2      SpaceX         LC-39A, Kennedy Space Center, Florida, USA   \n",
       "3        CASC  Site 9401 (SLS-2), Jiuquan Satellite Launch Ce...   \n",
       "4      SpaceX           SLC-40, Cape Canaveral SFS, Florida, USA   \n",
       "\n",
       "                      Datum  Price               Rocket StatusRocket  \\\n",
       "0 2024-04-20 23:45:00+00:00  29.75         Yaogan 42-02       Active   \n",
       "1 2024-04-18 22:40:00+00:00  67.00  Starlink Group 6-52       Active   \n",
       "2 2024-04-17 21:26:00+00:00  67.00  Starlink Group 6-51       Active   \n",
       "3 2024-04-15 04:12:00+00:00  29.75   SuperView Neo 3-01       Active   \n",
       "4 2024-04-13 01:40:00+00:00  67.00  Starlink Group 6-49       Active   \n",
       "\n",
       "  StatusMission  \n",
       "0       Success  \n",
       "1       Success  \n",
       "2       Success  \n",
       "3       Success  \n",
       "4       Success  "
      ]
     },
     "execution_count": 15,
     "metadata": {},
     "output_type": "execute_result"
    }
   ],
   "source": [
    "data.head()"
   ]
  },
  {
   "cell_type": "code",
   "execution_count": 16,
   "metadata": {},
   "outputs": [],
   "source": [
    "# selecting entries from 1955–1975 (when space race took place)\n",
    "time_of_race = data[(data['Datum'].dt.year >= 1955) & (data['Datum'].dt.year <= 1975)]"
   ]
  },
  {
   "cell_type": "code",
   "execution_count": 17,
   "metadata": {},
   "outputs": [],
   "source": [
    "USA_filter = time_of_race['Location'].str.contains('USA')"
   ]
  },
  {
   "cell_type": "code",
   "execution_count": 18,
   "metadata": {},
   "outputs": [],
   "source": [
    "Russia_filter = time_of_race['Location'].str.contains('Russia')"
   ]
  },
  {
   "cell_type": "code",
   "execution_count": 19,
   "metadata": {},
   "outputs": [],
   "source": [
    "# filtering location to separate only these from USA and Russia\n",
    "space_race = time_of_race[Russia_filter | USA_filter].copy()"
   ]
  },
  {
   "cell_type": "code",
   "execution_count": 20,
   "metadata": {},
   "outputs": [],
   "source": [
    "def set_country(data):\n",
    "    if 'USA' in data:\n",
    "        return 'USA'\n",
    "    elif 'Russia' in data:\n",
    "        return 'Russia'\n",
    "    else:\n",
    "        return np.NaN"
   ]
  },
  {
   "cell_type": "code",
   "execution_count": 21,
   "metadata": {},
   "outputs": [],
   "source": [
    "space_race['Country'] = space_race.loc[:, ('Location')].apply(set_country)"
   ]
  },
  {
   "cell_type": "code",
   "execution_count": 22,
   "metadata": {},
   "outputs": [
    {
     "data": {
      "text/html": [
       "<div>\n",
       "<style scoped>\n",
       "    .dataframe tbody tr th:only-of-type {\n",
       "        vertical-align: middle;\n",
       "    }\n",
       "\n",
       "    .dataframe tbody tr th {\n",
       "        vertical-align: top;\n",
       "    }\n",
       "\n",
       "    .dataframe thead th {\n",
       "        text-align: right;\n",
       "    }\n",
       "</style>\n",
       "<table border=\"1\" class=\"dataframe\">\n",
       "  <thead>\n",
       "    <tr style=\"text-align: right;\">\n",
       "      <th></th>\n",
       "      <th>CompanyName</th>\n",
       "      <th>Location</th>\n",
       "      <th>Datum</th>\n",
       "      <th>Price</th>\n",
       "      <th>Rocket</th>\n",
       "      <th>StatusRocket</th>\n",
       "      <th>StatusMission</th>\n",
       "      <th>Country</th>\n",
       "    </tr>\n",
       "  </thead>\n",
       "  <tbody>\n",
       "    <tr>\n",
       "      <th>4956</th>\n",
       "      <td>RVSN USSR</td>\n",
       "      <td>Site 43/3, Plesetsk Cosmodrome, Russia</td>\n",
       "      <td>1975-12-27 10:22:00+00:00</td>\n",
       "      <td>NaN</td>\n",
       "      <td>Molniya-3 n°56</td>\n",
       "      <td>Retired</td>\n",
       "      <td>Success</td>\n",
       "      <td>Russia</td>\n",
       "    </tr>\n",
       "    <tr>\n",
       "      <th>4957</th>\n",
       "      <td>RVSN USSR</td>\n",
       "      <td>Site 41/1, Plesetsk Cosmodrome, Russia</td>\n",
       "      <td>1975-12-25 19:00:00+00:00</td>\n",
       "      <td>NaN</td>\n",
       "      <td>Meteor n°33</td>\n",
       "      <td>Retired</td>\n",
       "      <td>Success</td>\n",
       "      <td>Russia</td>\n",
       "    </tr>\n",
       "    <tr>\n",
       "      <th>4960</th>\n",
       "      <td>RVSN USSR</td>\n",
       "      <td>Site 132/1, Plesetsk Cosmodrome, Russia</td>\n",
       "      <td>1975-12-19 14:00:00+00:00</td>\n",
       "      <td>NaN</td>\n",
       "      <td>DS-P1 satellite</td>\n",
       "      <td>Retired</td>\n",
       "      <td>Failure</td>\n",
       "      <td>Russia</td>\n",
       "    </tr>\n",
       "    <tr>\n",
       "      <th>4961</th>\n",
       "      <td>RVSN USSR</td>\n",
       "      <td>Site 43/3, Plesetsk Cosmodrome, Russia</td>\n",
       "      <td>1975-12-17 11:06:00+00:00</td>\n",
       "      <td>NaN</td>\n",
       "      <td>Molniya-2 n°55</td>\n",
       "      <td>Retired</td>\n",
       "      <td>Success</td>\n",
       "      <td>Russia</td>\n",
       "    </tr>\n",
       "    <tr>\n",
       "      <th>4964</th>\n",
       "      <td>Martin Marietta</td>\n",
       "      <td>SLC-40, Cape Canaveral SFS, Florida, USA</td>\n",
       "      <td>1975-12-14 05:15:00+00:00</td>\n",
       "      <td>NaN</td>\n",
       "      <td>DSP-5</td>\n",
       "      <td>Retired</td>\n",
       "      <td>Success</td>\n",
       "      <td>USA</td>\n",
       "    </tr>\n",
       "  </tbody>\n",
       "</table>\n",
       "</div>"
      ],
      "text/plain": [
       "          CompanyName                                  Location  \\\n",
       "4956        RVSN USSR    Site 43/3, Plesetsk Cosmodrome, Russia   \n",
       "4957        RVSN USSR    Site 41/1, Plesetsk Cosmodrome, Russia   \n",
       "4960        RVSN USSR   Site 132/1, Plesetsk Cosmodrome, Russia   \n",
       "4961        RVSN USSR    Site 43/3, Plesetsk Cosmodrome, Russia   \n",
       "4964  Martin Marietta  SLC-40, Cape Canaveral SFS, Florida, USA   \n",
       "\n",
       "                         Datum  Price           Rocket StatusRocket  \\\n",
       "4956 1975-12-27 10:22:00+00:00    NaN   Molniya-3 n°56      Retired   \n",
       "4957 1975-12-25 19:00:00+00:00    NaN      Meteor n°33      Retired   \n",
       "4960 1975-12-19 14:00:00+00:00    NaN  DS-P1 satellite      Retired   \n",
       "4961 1975-12-17 11:06:00+00:00    NaN   Molniya-2 n°55      Retired   \n",
       "4964 1975-12-14 05:15:00+00:00    NaN            DSP-5      Retired   \n",
       "\n",
       "     StatusMission Country  \n",
       "4956       Success  Russia  \n",
       "4957       Success  Russia  \n",
       "4960       Failure  Russia  \n",
       "4961       Success  Russia  \n",
       "4964       Success     USA  "
      ]
     },
     "execution_count": 22,
     "metadata": {},
     "output_type": "execute_result"
    }
   ],
   "source": [
    "space_race.head()"
   ]
  },
  {
   "cell_type": "markdown",
   "metadata": {},
   "source": [
    "---"
   ]
  },
  {
   "cell_type": "markdown",
   "metadata": {},
   "source": [
    "# How many missions each country started?\n",
    "###  How many missions were successful, and how many failed?"
   ]
  },
  {
   "cell_type": "code",
   "execution_count": 23,
   "metadata": {},
   "outputs": [],
   "source": [
    "success_and_fail = space_race.groupby(['Country', 'StatusMission'], observed=False).size().unstack(fill_value=0)"
   ]
  },
  {
   "cell_type": "code",
   "execution_count": 24,
   "metadata": {},
   "outputs": [
    {
     "data": {
      "text/html": [
       "<div>\n",
       "<style scoped>\n",
       "    .dataframe tbody tr th:only-of-type {\n",
       "        vertical-align: middle;\n",
       "    }\n",
       "\n",
       "    .dataframe tbody tr th {\n",
       "        vertical-align: top;\n",
       "    }\n",
       "\n",
       "    .dataframe thead th {\n",
       "        text-align: right;\n",
       "    }\n",
       "</style>\n",
       "<table border=\"1\" class=\"dataframe\">\n",
       "  <thead>\n",
       "    <tr style=\"text-align: right;\">\n",
       "      <th>StatusMission</th>\n",
       "      <th>Failure</th>\n",
       "      <th>Partial Failure</th>\n",
       "      <th>Prelaunch Failure</th>\n",
       "      <th>Success</th>\n",
       "    </tr>\n",
       "    <tr>\n",
       "      <th>Country</th>\n",
       "      <th></th>\n",
       "      <th></th>\n",
       "      <th></th>\n",
       "      <th></th>\n",
       "    </tr>\n",
       "  </thead>\n",
       "  <tbody>\n",
       "    <tr>\n",
       "      <th>Russia</th>\n",
       "      <td>43</td>\n",
       "      <td>9</td>\n",
       "      <td>0</td>\n",
       "      <td>490</td>\n",
       "    </tr>\n",
       "    <tr>\n",
       "      <th>USA</th>\n",
       "      <td>101</td>\n",
       "      <td>25</td>\n",
       "      <td>0</td>\n",
       "      <td>623</td>\n",
       "    </tr>\n",
       "  </tbody>\n",
       "</table>\n",
       "</div>"
      ],
      "text/plain": [
       "StatusMission  Failure  Partial Failure  Prelaunch Failure  Success\n",
       "Country                                                            \n",
       "Russia              43                9                  0      490\n",
       "USA                101               25                  0      623"
      ]
     },
     "execution_count": 24,
     "metadata": {},
     "output_type": "execute_result"
    }
   ],
   "source": [
    "success_and_fail"
   ]
  },
  {
   "cell_type": "code",
   "execution_count": 25,
   "metadata": {},
   "outputs": [
    {
     "data": {
      "text/plain": [
       "<Axes: xlabel='Country'>"
      ]
     },
     "execution_count": 25,
     "metadata": {},
     "output_type": "execute_result"
    },
    {
     "data": {
      "image/png": "[encoded data removed]",
      "text/plain": [
       "<Figure size 1500x500 with 1 Axes>"
      ]
     },
     "metadata": {},
     "output_type": "display_data"
    }
   ],
   "source": [
    "success_and_fail.plot(kind='bar', stacked=True, figsize=(15,5), color={'Success': 'green', \"Failure\": 'red', 'Partial Failure': 'orange', 'Prelaunch Failure': 'black'})"
   ]
  },
  {
   "cell_type": "markdown",
   "metadata": {},
   "source": [
    "### When these mission happened?"
   ]
  },
  {
   "cell_type": "code",
   "execution_count": 26,
   "metadata": {},
   "outputs": [
    {
     "data": {
      "text/plain": [
       "<Axes: xlabel='Datum', ylabel='Country'>"
      ]
     },
     "execution_count": 26,
     "metadata": {},
     "output_type": "execute_result"
    },
    {
     "data": {
      "image/png": "[encoded data removed]",
      "text/plain": [
       "<Figure size 640x480 with 1 Axes>"
      ]
     },
     "metadata": {},
     "output_type": "display_data"
    }
   ],
   "source": [
    "space_race.plot.scatter(x='Datum', y='Country', s=25)"
   ]
  },
  {
   "cell_type": "code",
   "execution_count": 27,
   "metadata": {},
   "outputs": [],
   "source": [
    "missions_USA = space_race.query('Country == \"USA\"').Datum.dt.year.value_counts()"
   ]
  },
  {
   "cell_type": "code",
   "execution_count": 28,
   "metadata": {},
   "outputs": [],
   "source": [
    "missions_Russia = space_race.query('Country == \"Russia\"').Datum.dt.year.value_counts()"
   ]
  },
  {
   "cell_type": "code",
   "execution_count": 29,
   "metadata": {},
   "outputs": [
    {
     "data": {
      "image/png": "[encoded data removed]",
      "text/plain": [
       "<Figure size 1000x500 with 1 Axes>"
      ]
     },
     "metadata": {},
     "output_type": "display_data"
    }
   ],
   "source": [
    "plt.figure(figsize=(10, 5))  # Set the size of the plot\n",
    "\n",
    "# Plot each series\n",
    "plt.bar(missions_Russia.index, missions_Russia.values, label='Russia', width=.5)  # You can customize the line style\n",
    "plt.bar(missions_USA.index, missions_USA.values, label='USA', align='edge', width=.5)  # Adding another series\n",
    "\n",
    "# Add title and labels\n",
    "plt.title('Number of missions per year')\n",
    "plt.xlabel('Year')\n",
    "plt.ylabel('Number of missions')\n",
    "\n",
    "# Adding a legend\n",
    "plt.legend()\n",
    "\n",
    "# Show the plot\n",
    "plt.grid(True)  # Optionally add a grid\n",
    "plt.show()"
   ]
  },
  {
   "cell_type": "markdown",
   "metadata": {},
   "source": [
    "### Observations on Mission Continuity\r\n",
    "- **Consistent U.S. Missions:** From what we can see, the U.S. didn’t really take breaks with their space missions.Sshowing they were really dedicated to keeping their space program active.\r\n",
    "- **Gaps in Russian Missions:** Russia, however, had a few gaps in their mission timeline. Maybe they were rethinking their strategies or dealing with resource issues? It shows they weren’t as steady with their launches.\r\n",
    "\r\n",
    "### Mission Frequency Changes Post-1967\r\n",
    "- **U.S. Slows DownroundAfter 1967, there’s a noticeable dip in how often the U.S. was launching missions. It seems like they might have slowed down after achieving some of their big goals, maybe taking time to plan out their next steps.\r\n",
    "- **Russia Steps It Up:** At the same time, Russia started launching more missions. Perhaps they were trying to catch up or get ahead, especially if they felt they were falling behind in the space race.\r\n",
    "\r\n",
    "It’s pretty interesting to see how both countries adjusted their space programs over time, likely influenced by their successes, setbacks, and the overall space race dynamics.\r\n",
    "namics.\r\n",
    "obally.\r\n",
    "actors.\r\n"
   ]
  },
  {
   "cell_type": "markdown",
   "metadata": {},
   "source": [
    "### When most failures happened? At the begining or at the end?"
   ]
  },
  {
   "cell_type": "code",
   "execution_count": 30,
   "metadata": {},
   "outputs": [
    {
     "data": {
      "image/png": "[encoded data removed]",
      "text/plain": [
       "<Figure size 1000x600 with 1 Axes>"
      ]
     },
     "metadata": {},
     "output_type": "display_data"
    }
   ],
   "source": [
    "failed_missions = space_race[space_race['StatusMission'] != 'Success']\n",
    "\n",
    "# Plotting the failed missions\n",
    "country_colors = {'USA': 'blue', 'Russia': 'red'}\n",
    "\n",
    "# Plotting the failed missions\n",
    "plt.figure(figsize=(10, 6))\n",
    "for country, group in failed_missions.groupby('Country'):\n",
    "    plt.scatter(group['Datum'], [country] * len(group), color=country_colors[country], label=country, marker='o', s=100)\n",
    "\n",
    "plt.title('Failed Missions Over Time by Country')\n",
    "plt.xlabel('Date')\n",
    "plt.ylabel('Country')\n",
    "plt.legend()\n",
    "plt.grid(True)\n",
    "plt.tight_layout()\n",
    "plt.show()"
   ]
  },
  {
   "cell_type": "code",
   "execution_count": 31,
   "metadata": {},
   "outputs": [
    {
     "data": {
      "text/plain": [
       "<Axes: title={'center': 'USA'}, xlabel='Year'>"
      ]
     },
     "execution_count": 31,
     "metadata": {},
     "output_type": "execute_result"
    },
    {
     "data": {
      "image/png": "[encoded data removed]",
      "text/plain": [
       "<Figure size 640x480 with 1 Axes>"
      ]
     },
     "metadata": {},
     "output_type": "display_data"
    }
   ],
   "source": [
    "space_race['Year'] = space_race.Datum.dt.year\n",
    "filter = space_race['Country'] == 'USA'\n",
    "space_race[filter].query('StatusMission != \"Success\"').groupby(['Year'], observed=False)['StatusMission'].count().plot(kind='bar', title='USA')"
   ]
  },
  {
   "cell_type": "code",
   "execution_count": 32,
   "metadata": {},
   "outputs": [
    {
     "data": {
      "text/plain": [
       "<Axes: title={'center': 'Russia'}, xlabel='Year'>"
      ]
     },
     "execution_count": 32,
     "metadata": {},
     "output_type": "execute_result"
    },
    {
     "data": {
      "image/png": "[encoded data removed]",
      "text/plain": [
       "<Figure size 640x480 with 1 Axes>"
      ]
     },
     "metadata": {},
     "output_type": "display_data"
    }
   ],
   "source": [
    "filter = space_race['Country'] == 'Russia'\n",
    "space_race[filter].query('StatusMission != \"Success\"').groupby(['Year'], observed=False)['StatusMission'].count().plot(kind='bar', title='Russia')"
   ]
  },
  {
   "cell_type": "markdown",
   "metadata": {},
   "source": [
    "### What about successful missions?"
   ]
  },
  {
   "cell_type": "code",
   "execution_count": 33,
   "metadata": {},
   "outputs": [
    {
     "data": {
      "image/png": "[encoded data removed]",
      "text/plain": [
       "<Figure size 1000x600 with 1 Axes>"
      ]
     },
     "metadata": {},
     "output_type": "display_data"
    }
   ],
   "source": [
    "successful_missions = space_race[space_race['StatusMission'] == 'Success']\n",
    "plt.figure(figsize=(10, 6))\n",
    "for country, group in successful_missions.groupby('Country'):\n",
    "    plt.scatter(group['Datum'], [country] * len(group), color=country_colors[country], label=country, marker='o', s=100)\n",
    "\n",
    "plt.title('Successful Missions Over Time by Country')\n",
    "plt.xlabel('Date')\n",
    "plt.ylabel('Country')\n",
    "plt.legend()\n",
    "plt.grid(True)\n",
    "plt.tight_layout()\n",
    "plt.show()"
   ]
  },
  {
   "cell_type": "code",
   "execution_count": 34,
   "metadata": {},
   "outputs": [
    {
     "data": {
      "text/plain": [
       "<Axes: title={'center': 'Russia'}, xlabel='Year'>"
      ]
     },
     "execution_count": 34,
     "metadata": {},
     "output_type": "execute_result"
    },
    {
     "data": {
      "image/png": "[encoded data removed]",
      "text/plain": [
       "<Figure size 640x480 with 1 Axes>"
      ]
     },
     "metadata": {},
     "output_type": "display_data"
    }
   ],
   "source": [
    "filter = space_race['Country'] == 'Russia'\n",
    "space_race[filter].query('StatusMission == \"Success\"').groupby(['Year'], observed=False)['StatusMission'].count().plot(kind='bar', title='Russia')"
   ]
  },
  {
   "cell_type": "code",
   "execution_count": 35,
   "metadata": {},
   "outputs": [
    {
     "data": {
      "text/plain": [
       "<Axes: title={'center': 'USA'}, xlabel='Year'>"
      ]
     },
     "execution_count": 35,
     "metadata": {},
     "output_type": "execute_result"
    },
    {
     "data": {
      "image/png": "[encoded data removed]",
      "text/plain": [
       "<Figure size 640x480 with 1 Axes>"
      ]
     },
     "metadata": {},
     "output_type": "display_data"
    }
   ],
   "source": [
    "filter = space_race['Country'] == 'USA'\n",
    "space_race[filter].query('StatusMission == \"Success\"').groupby(['Year'], observed=False)['StatusMission'].count().plot(kind='bar', title='USA')"
   ]
  },
  {
   "cell_type": "markdown",
   "metadata": {},
   "source": [
    "### First missions:"
   ]
  },
  {
   "cell_type": "markdown",
   "metadata": {},
   "source": [
    "#### USA"
   ]
  },
  {
   "cell_type": "code",
   "execution_count": 36,
   "metadata": {},
   "outputs": [
    {
     "data": {
      "text/html": [
       "<div>\n",
       "<style scoped>\n",
       "    .dataframe tbody tr th:only-of-type {\n",
       "        vertical-align: middle;\n",
       "    }\n",
       "\n",
       "    .dataframe tbody tr th {\n",
       "        vertical-align: top;\n",
       "    }\n",
       "\n",
       "    .dataframe thead th {\n",
       "        text-align: right;\n",
       "    }\n",
       "</style>\n",
       "<table border=\"1\" class=\"dataframe\">\n",
       "  <thead>\n",
       "    <tr style=\"text-align: right;\">\n",
       "      <th></th>\n",
       "      <th>CompanyName</th>\n",
       "      <th>Location</th>\n",
       "      <th>Datum</th>\n",
       "      <th>Price</th>\n",
       "      <th>Rocket</th>\n",
       "      <th>StatusRocket</th>\n",
       "      <th>StatusMission</th>\n",
       "      <th>Country</th>\n",
       "      <th>Year</th>\n",
       "    </tr>\n",
       "  </thead>\n",
       "  <tbody>\n",
       "    <tr>\n",
       "      <th>6621</th>\n",
       "      <td>RVSN USSR</td>\n",
       "      <td>Mayak-2, Kapustin Yar, Russia</td>\n",
       "      <td>1961-10-27 16:30:00+00:00</td>\n",
       "      <td>NaN</td>\n",
       "      <td>DS-1 n°1</td>\n",
       "      <td>Retired</td>\n",
       "      <td>Failure</td>\n",
       "      <td>Russia</td>\n",
       "      <td>1961</td>\n",
       "    </tr>\n",
       "  </tbody>\n",
       "</table>\n",
       "</div>"
      ],
      "text/plain": [
       "     CompanyName                       Location                     Datum  \\\n",
       "6621   RVSN USSR  Mayak-2, Kapustin Yar, Russia 1961-10-27 16:30:00+00:00   \n",
       "\n",
       "      Price    Rocket StatusRocket StatusMission Country  Year  \n",
       "6621    NaN  DS-1 n°1      Retired       Failure  Russia  1961  "
      ]
     },
     "execution_count": 36,
     "metadata": {},
     "output_type": "execute_result"
    }
   ],
   "source": [
    "space_race.sort_values('Datum').query('Country == \"Russia\"').head(1)"
   ]
  },
  {
   "cell_type": "markdown",
   "metadata": {},
   "source": [
    "#### Russia"
   ]
  },
  {
   "cell_type": "code",
   "execution_count": 37,
   "metadata": {},
   "outputs": [
    {
     "data": {
      "text/html": [
       "<div>\n",
       "<style scoped>\n",
       "    .dataframe tbody tr th:only-of-type {\n",
       "        vertical-align: middle;\n",
       "    }\n",
       "\n",
       "    .dataframe tbody tr th {\n",
       "        vertical-align: top;\n",
       "    }\n",
       "\n",
       "    .dataframe thead th {\n",
       "        text-align: right;\n",
       "    }\n",
       "</style>\n",
       "<table border=\"1\" class=\"dataframe\">\n",
       "  <thead>\n",
       "    <tr style=\"text-align: right;\">\n",
       "      <th></th>\n",
       "      <th>CompanyName</th>\n",
       "      <th>Location</th>\n",
       "      <th>Datum</th>\n",
       "      <th>Price</th>\n",
       "      <th>Rocket</th>\n",
       "      <th>StatusRocket</th>\n",
       "      <th>StatusMission</th>\n",
       "      <th>Country</th>\n",
       "      <th>Year</th>\n",
       "    </tr>\n",
       "  </thead>\n",
       "  <tbody>\n",
       "    <tr>\n",
       "      <th>6749</th>\n",
       "      <td>US Navy</td>\n",
       "      <td>LC-18A, Cape Canaveral SFS, Florida, USA</td>\n",
       "      <td>1958-06-26 05:00:00+00:00</td>\n",
       "      <td>NaN</td>\n",
       "      <td>Vanguard SLV-2</td>\n",
       "      <td>Retired</td>\n",
       "      <td>Failure</td>\n",
       "      <td>USA</td>\n",
       "      <td>1958</td>\n",
       "    </tr>\n",
       "  </tbody>\n",
       "</table>\n",
       "</div>"
      ],
      "text/plain": [
       "     CompanyName                                  Location  \\\n",
       "6749     US Navy  LC-18A, Cape Canaveral SFS, Florida, USA   \n",
       "\n",
       "                         Datum  Price          Rocket StatusRocket  \\\n",
       "6749 1958-06-26 05:00:00+00:00    NaN  Vanguard SLV-2      Retired   \n",
       "\n",
       "     StatusMission Country  Year  \n",
       "6749       Failure     USA  1958  "
      ]
     },
     "execution_count": 37,
     "metadata": {},
     "output_type": "execute_result"
    }
   ],
   "source": [
    "space_race.sort_values('Datum').query('Country == \"USA\"').head(1)"
   ]
  },
  {
   "cell_type": "markdown",
   "metadata": {},
   "source": [
    "### What is the gap between them?"
   ]
  },
  {
   "cell_type": "code",
   "execution_count": 38,
   "metadata": {},
   "outputs": [],
   "source": [
    "first_mission_russia = space_race.sort_values('Datum').query('Country == \"Russia\"').head(1).Datum"
   ]
  },
  {
   "cell_type": "code",
   "execution_count": 39,
   "metadata": {},
   "outputs": [],
   "source": [
    "first_mission_usa = space_race.sort_values('Datum').query('Country == \"USA\"').head(1).Datum"
   ]
  },
  {
   "cell_type": "code",
   "execution_count": 40,
   "metadata": {},
   "outputs": [
    {
     "data": {
      "text/plain": [
       "3"
      ]
     },
     "execution_count": 40,
     "metadata": {},
     "output_type": "execute_result"
    }
   ],
   "source": [
    "(first_mission_russia.values[0] - first_mission_usa.values[0]).astype('timedelta64[Y]').astype(int)"
   ]
  },
  {
   "cell_type": "markdown",
   "metadata": {},
   "source": [
    "---"
   ]
  },
  {
   "cell_type": "markdown",
   "metadata": {},
   "source": [
    "## Observations:\r\n",
    "- The USA began its space program almost four years earlier than Russia.\r\n",
    "- During the first half of the space race, the USA experienced more failures, whereas Russia encountered more failures during the second half.\r\n",
    "- Russia had intermittent breaks in its missions during the first half of the race, while the USA consistently launched new missions.\r\n",
    "- OveraUSAssia executed more missions than Russia USA.\r\n",
    "- Both country's first missions wereia falure\r\n",
    "\r\n",
    "- Russslower start with less failures than USAs.\r\n",
    "lure\r\n"
   ]
  },
  {
   "cell_type": "markdown",
   "metadata": {},
   "source": [
    "---"
   ]
  },
  {
   "cell_type": "markdown",
   "metadata": {},
   "source": [
    "## How much each country had spent?\n",
    "### (Data is incomplete so it will not tell us much)"
   ]
  },
  {
   "cell_type": "code",
   "execution_count": 41,
   "metadata": {},
   "outputs": [],
   "source": [
    "price = space_race.groupby('Country')['Price'].sum()"
   ]
  },
  {
   "cell_type": "code",
   "execution_count": 42,
   "metadata": {},
   "outputs": [
    {
     "data": {
      "text/plain": [
       "Text(0, 0.5, '$million')"
      ]
     },
     "execution_count": 42,
     "metadata": {},
     "output_type": "execute_result"
    },
    {
     "data": {
      "image/png": "[encoded data removed]",
      "text/plain": [
       "<Figure size 640x480 with 1 Axes>"
      ]
     },
     "metadata": {},
     "output_type": "display_data"
    }
   ],
   "source": [
    "plt.bar(x=price.index, height=price)\n",
    "plt.ylabel('$million')"
   ]
  },
  {
   "cell_type": "markdown",
   "metadata": {},
   "source": [
    "### We can see that USA documented more than 16000 millions \n",
    "### And data about Russia investmend is rather incomplete showing us less than 1000 millions \n",
    "---"
   ]
  },
  {
   "cell_type": "markdown",
   "metadata": {},
   "source": [
    "### How many rockets are still active?"
   ]
  },
  {
   "cell_type": "code",
   "execution_count": 43,
   "metadata": {},
   "outputs": [
    {
     "data": {
      "text/plain": [
       "StatusRocket\n",
       " Retired    1291\n",
       " Active        0\n",
       "Name: count, dtype: int64"
      ]
     },
     "execution_count": 43,
     "metadata": {},
     "output_type": "execute_result"
    }
   ],
   "source": [
    "space_race.StatusRocket.value_counts()"
   ]
  },
  {
   "cell_type": "markdown",
   "metadata": {},
   "source": [
    "---"
   ]
  },
  {
   "cell_type": "markdown",
   "metadata": {},
   "source": [
    "### How many rockets took part in race?"
   ]
  },
  {
   "cell_type": "code",
   "execution_count": 44,
   "metadata": {},
   "outputs": [
    {
     "data": {
      "text/plain": [
       "True"
      ]
     },
     "execution_count": 44,
     "metadata": {},
     "output_type": "execute_result"
    }
   ],
   "source": [
    "space_race['Rocket'].duplicated().any()"
   ]
  },
  {
   "cell_type": "code",
   "execution_count": 45,
   "metadata": {},
   "outputs": [
    {
     "data": {
      "text/plain": [
       "True"
      ]
     },
     "execution_count": 45,
     "metadata": {},
     "output_type": "execute_result"
    }
   ],
   "source": [
    "space_race.query('Country == \"Russia\"')['Rocket'].duplicated().any()"
   ]
  },
  {
   "cell_type": "markdown",
   "metadata": {},
   "source": [
    "### Russia used same rocket twice"
   ]
  },
  {
   "cell_type": "code",
   "execution_count": 46,
   "metadata": {},
   "outputs": [
    {
     "data": {
      "text/html": [
       "<div>\n",
       "<style scoped>\n",
       "    .dataframe tbody tr th:only-of-type {\n",
       "        vertical-align: middle;\n",
       "    }\n",
       "\n",
       "    .dataframe tbody tr th {\n",
       "        vertical-align: top;\n",
       "    }\n",
       "\n",
       "    .dataframe thead th {\n",
       "        text-align: right;\n",
       "    }\n",
       "</style>\n",
       "<table border=\"1\" class=\"dataframe\">\n",
       "  <thead>\n",
       "    <tr style=\"text-align: right;\">\n",
       "      <th></th>\n",
       "      <th>CompanyName</th>\n",
       "      <th>Location</th>\n",
       "      <th>Datum</th>\n",
       "      <th>Price</th>\n",
       "      <th>Rocket</th>\n",
       "      <th>StatusRocket</th>\n",
       "      <th>StatusMission</th>\n",
       "      <th>Country</th>\n",
       "      <th>Year</th>\n",
       "    </tr>\n",
       "  </thead>\n",
       "  <tbody>\n",
       "    <tr>\n",
       "      <th>5639</th>\n",
       "      <td>RVSN USSR</td>\n",
       "      <td>Site 132/2, Plesetsk Cosmodrome, Russia</td>\n",
       "      <td>1970-06-27 16:39:00+00:00</td>\n",
       "      <td>NaN</td>\n",
       "      <td>Strela-2M satellite</td>\n",
       "      <td>Retired</td>\n",
       "      <td>Failure</td>\n",
       "      <td>Russia</td>\n",
       "      <td>1970</td>\n",
       "    </tr>\n",
       "  </tbody>\n",
       "</table>\n",
       "</div>"
      ],
      "text/plain": [
       "     CompanyName                                 Location  \\\n",
       "5639   RVSN USSR  Site 132/2, Plesetsk Cosmodrome, Russia   \n",
       "\n",
       "                         Datum  Price               Rocket StatusRocket  \\\n",
       "5639 1970-06-27 16:39:00+00:00    NaN  Strela-2M satellite      Retired   \n",
       "\n",
       "     StatusMission Country  Year  \n",
       "5639       Failure  Russia  1970  "
      ]
     },
     "execution_count": 46,
     "metadata": {},
     "output_type": "execute_result"
    }
   ],
   "source": [
    "filter = space_race.query('Country == \"Russia\"')['Rocket'].duplicated()\n",
    "space_race.query('Country == \"Russia\"')[filter]"
   ]
  },
  {
   "cell_type": "code",
   "execution_count": 47,
   "metadata": {},
   "outputs": [
    {
     "data": {
      "text/html": [
       "<div>\n",
       "<style scoped>\n",
       "    .dataframe tbody tr th:only-of-type {\n",
       "        vertical-align: middle;\n",
       "    }\n",
       "\n",
       "    .dataframe tbody tr th {\n",
       "        vertical-align: top;\n",
       "    }\n",
       "\n",
       "    .dataframe thead th {\n",
       "        text-align: right;\n",
       "    }\n",
       "</style>\n",
       "<table border=\"1\" class=\"dataframe\">\n",
       "  <thead>\n",
       "    <tr style=\"text-align: right;\">\n",
       "      <th></th>\n",
       "      <th>CompanyName</th>\n",
       "      <th>Location</th>\n",
       "      <th>Datum</th>\n",
       "      <th>Price</th>\n",
       "      <th>Rocket</th>\n",
       "      <th>StatusRocket</th>\n",
       "      <th>StatusMission</th>\n",
       "      <th>Country</th>\n",
       "      <th>Year</th>\n",
       "    </tr>\n",
       "  </thead>\n",
       "  <tbody>\n",
       "    <tr>\n",
       "      <th>5345</th>\n",
       "      <td>RVSN USSR</td>\n",
       "      <td>Site 132/1, Plesetsk Cosmodrome, Russia</td>\n",
       "      <td>1972-10-17 19:59:00+00:00</td>\n",
       "      <td>NaN</td>\n",
       "      <td>Strela-2M satellite</td>\n",
       "      <td>Retired</td>\n",
       "      <td>Failure</td>\n",
       "      <td>Russia</td>\n",
       "      <td>1972</td>\n",
       "    </tr>\n",
       "    <tr>\n",
       "      <th>5639</th>\n",
       "      <td>RVSN USSR</td>\n",
       "      <td>Site 132/2, Plesetsk Cosmodrome, Russia</td>\n",
       "      <td>1970-06-27 16:39:00+00:00</td>\n",
       "      <td>NaN</td>\n",
       "      <td>Strela-2M satellite</td>\n",
       "      <td>Retired</td>\n",
       "      <td>Failure</td>\n",
       "      <td>Russia</td>\n",
       "      <td>1970</td>\n",
       "    </tr>\n",
       "  </tbody>\n",
       "</table>\n",
       "</div>"
      ],
      "text/plain": [
       "     CompanyName                                 Location  \\\n",
       "5345   RVSN USSR  Site 132/1, Plesetsk Cosmodrome, Russia   \n",
       "5639   RVSN USSR  Site 132/2, Plesetsk Cosmodrome, Russia   \n",
       "\n",
       "                         Datum  Price               Rocket StatusRocket  \\\n",
       "5345 1972-10-17 19:59:00+00:00    NaN  Strela-2M satellite      Retired   \n",
       "5639 1970-06-27 16:39:00+00:00    NaN  Strela-2M satellite      Retired   \n",
       "\n",
       "     StatusMission Country  Year  \n",
       "5345       Failure  Russia  1972  \n",
       "5639       Failure  Russia  1970  "
      ]
     },
     "execution_count": 47,
     "metadata": {},
     "output_type": "execute_result"
    }
   ],
   "source": [
    "space_race.query('Rocket == \"Strela-2M satellite\"')"
   ]
  },
  {
   "cell_type": "markdown",
   "metadata": {},
   "source": [
    "### Missions of this rocket were 2 years apart"
   ]
  },
  {
   "cell_type": "code",
   "execution_count": 48,
   "metadata": {},
   "outputs": [
    {
     "data": {
      "text/plain": [
       "False"
      ]
     },
     "execution_count": 48,
     "metadata": {},
     "output_type": "execute_result"
    }
   ],
   "source": [
    "space_race.query('Country == \"USA\"')['Rocket'].duplicated().any()"
   ]
  },
  {
   "cell_type": "code",
   "execution_count": 49,
   "metadata": {},
   "outputs": [
    {
     "data": {
      "text/plain": [
       "Country\n",
       "Russia    541\n",
       "USA       749\n",
       "dtype: int64"
      ]
     },
     "execution_count": 49,
     "metadata": {},
     "output_type": "execute_result"
    }
   ],
   "source": [
    "space_race.drop_duplicates(['Rocket']).groupby('Country').size()"
   ]
  },
  {
   "cell_type": "markdown",
   "metadata": {},
   "source": [
    "### The USA launched over 700 rockets, while Russia launched fewer than 600.\n",
    "### This  proves that the 'Price' data is corrupted.."
   ]
  },
  {
   "cell_type": "code",
   "execution_count": null,
   "metadata": {},
   "outputs": [],
   "source": []
  }
 ],
 "metadata": {
  "colab": {
   "authorship_tag": "ABX9TyPtpVOYJ2hpfFjXl4SVEWHn",
   "mount_file_id": "1ZgiobqNiYYJZkn83mjBz42LJA6ePz9L7",
   "provenance": []
  },
  "kernelspec": {
   "display_name": "Python 3 (ipykernel)",
   "language": "python",
   "name": "python3"
  },
  "language_info": {
   "codemirror_mode": {
    "name": "ipython",
    "version": 3
   },
   "file_extension": ".py",
   "mimetype": "text/x-python",
   "name": "python",
   "nbconvert_exporter": "python",
   "pygments_lexer": "ipython3",
   "version": "3.11.8"
  }
 },
 "nbformat": 4,
 "nbformat_minor": 4
}
